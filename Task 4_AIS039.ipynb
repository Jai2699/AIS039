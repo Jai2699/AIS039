{
 "cells": [
  {
   "cell_type": "markdown",
   "metadata": {},
   "source": [
    "Q1. What is meant by dictionary?\n",
    "\n",
    "A dictionary is a collection which is unordered, changeable and indexed. In Python dictionaries are written with curly brackets, and they have keys and values.\n",
    "\n",
    "Q2. What is difference between dictionary and set?\n",
    "\n",
    "Dictionaries are unordered sets. But the main difference is that items in dictionaries are accessed via keys and not via their position. The values of a dictionary can be any Python data type. A set is a collection which is unordered and unindexed."
   ]
  },
  {
   "cell_type": "markdown",
   "metadata": {},
   "source": [
    "Q3. Create a python set of mixed data types?"
   ]
  },
  {
   "cell_type": "code",
   "execution_count": 7,
   "metadata": {},
   "outputs": [
    {
     "data": {
      "text/plain": [
       "{(100, 200), -5, 1, 2, 2.5, 3, 45, 52, 'a', 'b', 'red'}"
      ]
     },
     "execution_count": 7,
     "metadata": {},
     "output_type": "execute_result"
    }
   ],
   "source": [
    "x=[1,2,3,(100,200),'a','b',\"red\",45,52,2.5,-5]\n",
    "set(x)"
   ]
  },
  {
   "cell_type": "markdown",
   "metadata": {},
   "source": [
    "Q4. Create a Dictionary of employee name, id and salary?"
   ]
  },
  {
   "cell_type": "code",
   "execution_count": 115,
   "metadata": {},
   "outputs": [
    {
     "name": "stdout",
     "output_type": "stream",
     "text": [
      "{1: {'Name': 'Jaee', 'Id': 'AIS039', 'Salary': '2500'}, 2: {'Name': 'Saee', 'Id': 'AIS035', 'Salary': '3500'}, 3: {'Name': 'Trisha', 'Id': 'AIS049', 'Salary': '5500'}}\n"
     ]
    }
   ],
   "source": [
    "d1={\"Name\":\"Jaee\",\"Id\":\"AIS039\",\"Salary\":\"2500\"}\n",
    "d2={\"Name\":\"Saee\",\"Id\":\"AIS035\",\"Salary\":\"3500\"}\n",
    "d3={\"Name\":\"Trisha\",\"Id\":\"AIS049\",\"Salary\":\"5500\"}\n",
    "twodimdict={1:d1,2:d2,3:d3}\n",
    "print(twodimdict)"
   ]
  },
  {
   "cell_type": "markdown",
   "metadata": {},
   "source": [
    "Q5. Display key-value pairs from dictionary using items () method?"
   ]
  },
  {
   "cell_type": "code",
   "execution_count": 19,
   "metadata": {},
   "outputs": [
    {
     "name": "stdout",
     "output_type": "stream",
     "text": [
      "Dict key-value are : \n",
      "1 {'Name': 'Jaee', 'Id': 'AIS039', 'Salary': '2500'}\n",
      "2 {'Name': 'Saee', 'Id': 'AIS035', 'Salary': '3500'}\n",
      "3 {'Name': 'Trisha', 'Id': 'AIS049', 'Salary': '5500'}\n"
     ]
    }
   ],
   "source": [
    "d1={\"Name\":\"Jaee\",\"Id\":\"AIS039\",\"Salary\":\"2500\"}\n",
    "d2={\"Name\":\"Saee\",\"Id\":\"AIS035\",\"Salary\":\"3500\"}\n",
    "d3={\"Name\":\"Trisha\",\"Id\":\"AIS049\",\"Salary\":\"5500\"}\n",
    "test_dict={1:d1,2:d2,3:d3}\n",
    "#print(\"Original dictionary is :\"+str(test_dict))\n",
    "#using dict.item()\n",
    "print(\"Dict key-value are : \")\n",
    "for key, value in test_dict.items():\n",
    "   print(key, value)\n"
   ]
  },
  {
   "cell_type": "markdown",
   "metadata": {},
   "source": [
    "Q6. Create a dictionary and then access values of 2nd key from the dictionary?"
   ]
  },
  {
   "cell_type": "code",
   "execution_count": 114,
   "metadata": {},
   "outputs": [
    {
     "name": "stdout",
     "output_type": "stream",
     "text": [
      "('Roll No.', 12) ('Subject', 'English')\n"
     ]
    }
   ],
   "source": [
    "dict={'Student Name':'Siya','Roll No.':12,'Subject':'English'}\n",
    "print(('Roll No.',dict.get('Roll No.')), ('Subject',dict.get('Subject')))"
   ]
  },
  {
   "cell_type": "markdown",
   "metadata": {},
   "source": [
    "Q7. Create a dictionary and then print empty dictionary using clear() method?\n"
   ]
  },
  {
   "cell_type": "code",
   "execution_count": 64,
   "metadata": {},
   "outputs": [
    {
     "name": "stdout",
     "output_type": "stream",
     "text": [
      "{}\n"
     ]
    }
   ],
   "source": [
    "dict={'Student Name':'Siya','Roll No.':12,'Subject':'English'}\n",
    "dict.clear()\n",
    "print(dict)"
   ]
  },
  {
   "cell_type": "markdown",
   "metadata": {},
   "source": [
    "Q8. Create a Dictionary of name, roll no,marks, gender and access, keys from the dictionary using key () method?"
   ]
  },
  {
   "cell_type": "code",
   "execution_count": 67,
   "metadata": {},
   "outputs": [
    {
     "data": {
      "text/plain": [
       "dict_keys(['Name', 'Roll No.', 'Marks', 'gender'])"
      ]
     },
     "execution_count": 67,
     "metadata": {},
     "output_type": "execute_result"
    }
   ],
   "source": [
    "dict={'Name':'Siya','Roll No.':12,'Marks':50,'gender':'female'}\n",
    "dict.keys()"
   ]
  },
  {
   "cell_type": "markdown",
   "metadata": {},
   "source": [
    "Q9. Take set A for even and B for odd and print the union of two set?"
   ]
  },
  {
   "cell_type": "code",
   "execution_count": 69,
   "metadata": {},
   "outputs": [
    {
     "data": {
      "text/plain": [
       "{2, 3, 4, 6, 8, 9, 10, 12, 13, 14, 15, 17, 19, 23}"
      ]
     },
     "execution_count": 69,
     "metadata": {},
     "output_type": "execute_result"
    }
   ],
   "source": [
    "A={2,4,6,8,10,12,14}\n",
    "B={3,9,13,15,17,19,23}\n",
    "A.union(B)"
   ]
  },
  {
   "cell_type": "markdown",
   "metadata": {},
   "source": [
    "Q10. If A={1,2,3,4,5} and B={4,5,6,7,8} then find difference, intersection of set A and B?"
   ]
  },
  {
   "cell_type": "code",
   "execution_count": 73,
   "metadata": {},
   "outputs": [
    {
     "name": "stdout",
     "output_type": "stream",
     "text": [
      "{1, 2, 3}\n",
      "{4, 5}\n"
     ]
    }
   ],
   "source": [
    "A={1,2,3,4,5} \n",
    "B={4,5,6,7,8}\n",
    "print(A.difference(B))\n",
    "print(A.intersection(B))"
   ]
  },
  {
   "cell_type": "markdown",
   "metadata": {},
   "source": [
    "Q11. If set={1,2,3,5,6} then add an element 4 in the set using add () function and remove 3 using discard () function?"
   ]
  },
  {
   "cell_type": "code",
   "execution_count": 82,
   "metadata": {},
   "outputs": [
    {
     "name": "stdout",
     "output_type": "stream",
     "text": [
      "Updated set: {1, 2, 3, 4, 5, 6}\n",
      "Updated set: {1, 2, 4, 5, 6}\n"
     ]
    }
   ],
   "source": [
    "set={1,2,3,5,6}\n",
    "set.add(4)\n",
    "print('Updated set:',set)\n",
    "set.discard(3)\n",
    "print('Updated set:',set)"
   ]
  },
  {
   "cell_type": "markdown",
   "metadata": {},
   "source": [
    "Q12. Add 12,9,11 in the set A={1,2,3,5,6} using update function?"
   ]
  },
  {
   "cell_type": "code",
   "execution_count": 87,
   "metadata": {},
   "outputs": [
    {
     "name": "stdout",
     "output_type": "stream",
     "text": [
      "Updated A: {1, 2, 3, 5, 6, 9, 11, 12}\n"
     ]
    }
   ],
   "source": [
    "A={1,2,3,5,6}\n",
    "s={12,9,11}\n",
    "A.update(s)\n",
    "print('Updated A:',A)"
   ]
  },
  {
   "cell_type": "markdown",
   "metadata": {},
   "source": [
    "Q13. Create a set and print the sum of all the elements in the set?"
   ]
  },
  {
   "cell_type": "code",
   "execution_count": 91,
   "metadata": {},
   "outputs": [
    {
     "name": "stdout",
     "output_type": "stream",
     "text": [
      "sum of all elements in the set1: 15\n"
     ]
    }
   ],
   "source": [
    "set1={1,2,3,4,5}\n",
    "print('sum of all elements in the set1:',sum(set1))"
   ]
  },
  {
   "cell_type": "markdown",
   "metadata": {},
   "source": [
    "Q14. If myset={\"a\",\"p\",\"p\",\"l\",\"e\"} then check whether a and r is in the set or not using membership operator?"
   ]
  },
  {
   "cell_type": "code",
   "execution_count": 101,
   "metadata": {},
   "outputs": [
    {
     "name": "stdout",
     "output_type": "stream",
     "text": [
      "a in myset: False\n",
      "r in myset: True\n"
     ]
    }
   ],
   "source": [
    "myset={\"a\",\"p\",\"p\",\"l\",\"e\"}\n",
    "a_in_myset=\"a\" not in myset\n",
    "print('a in myset:',a_in_myset)\n",
    "r_in_myset=\"r\" not in myset\n",
    "print('r in myset:',r_in_myset)"
   ]
  },
  {
   "cell_type": "raw",
   "metadata": {},
   "source": [
    "Q15.Create a dictionary of players name and runs in match and print keys and values in dictionary using loop?\n"
   ]
  },
  {
   "cell_type": "code",
   "execution_count": 113,
   "metadata": {},
   "outputs": [
    {
     "name": "stdout",
     "output_type": "stream",
     "text": [
      "1 {'Players Name': 'Kohli', 'runs': '101'}\n",
      "2 {'Players Name': 'Dhoni', 'runs': '95'}\n",
      "3 {'Players Name': 'Sharma', 'runs': '115'}\n"
     ]
    }
   ],
   "source": [
    "d1={\"Players Name\":\"Kohli\",\"runs\":\"101\"}\n",
    "d2={\"Players Name\":\"Dhoni\",\"runs\":\"95\"}\n",
    "d3={\"Players Name\":\"Sharma\",\"runs\":\"115\"}\n",
    "dic={1:d1,2:d2,3:d3}\n",
    "for k, v in dic.items() :\n",
    "    print(k, v)"
   ]
  },
  {
   "cell_type": "code",
   "execution_count": null,
   "metadata": {},
   "outputs": [],
   "source": []
  }
 ],
 "metadata": {
  "kernelspec": {
   "display_name": "Python 3",
   "language": "python",
   "name": "python3"
  },
  "language_info": {
   "codemirror_mode": {
    "name": "ipython",
    "version": 3
   },
   "file_extension": ".py",
   "mimetype": "text/x-python",
   "name": "python",
   "nbconvert_exporter": "python",
   "pygments_lexer": "ipython3",
   "version": "3.7.4"
  }
 },
 "nbformat": 4,
 "nbformat_minor": 2
}
