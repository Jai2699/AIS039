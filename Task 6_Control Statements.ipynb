{
 "cells": [
  {
   "cell_type": "markdown",
   "metadata": {},
   "source": [
    "# Task 6:Control Statements\n",
    "ID-AIS039\n",
    "\n",
    "Q1 Which are the control statements in python?"
   ]
  },
  {
   "cell_type": "markdown",
   "metadata": {},
   "source": [
    "Continue Statement, Break Statement and Pass Statement\n",
    "\n",
    "Basic program based on control statements:"
   ]
  },
  {
   "cell_type": "code",
   "execution_count": 39,
   "metadata": {},
   "outputs": [
    {
     "name": "stdout",
     "output_type": "stream",
     "text": [
      "My Roll no. is: 1\n",
      "My Roll no. is: 2\n",
      "My Roll no. is: 3\n",
      "My Roll no. is: 4\n",
      "My Roll no. is: 6\n",
      "My Roll no. is: 7\n",
      "My Roll no. is: 8\n",
      "My Roll no. is: 9\n",
      "My Roll no. is: 10\n",
      "My Roll no. is: 11\n",
      "My Roll no. is: 12\n",
      "My Roll no. is: 13\n",
      "My Roll no. is: 14\n",
      "My Roll no. is: 15\n",
      "My Roll no. is: 16\n",
      "My Roll no. is: 17\n",
      "My Roll no. is: 18\n",
      "My Roll no. is: 19\n",
      "My Roll no. is: 20\n",
      "My Roll no. is: 21\n",
      "My Roll no. is: 22\n",
      "My Roll no. is: 23\n",
      "My Roll no. is: 24\n",
      "My Roll no. is: 25\n",
      "My Roll no. is: 26\n",
      "My Roll no. is: 27\n",
      "My Roll no. is: 28\n",
      "My Roll no. is: 29\n"
     ]
    }
   ],
   "source": [
    "#Continue Statement\n",
    "for i in range(1,30):\n",
    "    if(i==5):\n",
    "        continue\n",
    "    print(\"My Roll no. is:\",i)"
   ]
  },
  {
   "cell_type": "code",
   "execution_count": 45,
   "metadata": {},
   "outputs": [
    {
     "name": "stdout",
     "output_type": "stream",
     "text": [
      "My Roll no. is: 1\n",
      "My Roll no. is: 2\n",
      "My Roll no. is: 3\n",
      "My Roll no. is: 4\n",
      "My Roll no. is: 5\n",
      "My Roll no. is: 6\n",
      "My Roll no. is: 7\n",
      "My Roll no. is: 8\n",
      "My Roll no. is: 9\n"
     ]
    }
   ],
   "source": [
    "for i in range(1,10):      # pass statement\n",
    "    if(i==4):pass\n",
    "    print(\"My Roll no. is:\",i)"
   ]
  },
  {
   "cell_type": "code",
   "execution_count": 6,
   "metadata": {},
   "outputs": [
    {
     "name": "stdout",
     "output_type": "stream",
     "text": [
      "enter number25\n",
      "Prime\n"
     ]
    }
   ],
   "source": [
    "#Prime no.Program using if and break statements\n",
    "a=int(input(\"enter number\"))\n",
    "if a>1:\n",
    "    for x in range(2,a):\n",
    "        if(a%x)==0:\n",
    "            print(\"not prime\")\n",
    "            break\n",
    "        else:\n",
    "            print(\"Prime\")\n",
    "            break\n",
    "    else:\n",
    "            print(\"Not Prime\")\n",
    "            "
   ]
  },
  {
   "cell_type": "markdown",
   "metadata": {},
   "source": [
    "Using Break continuing Pass"
   ]
  },
  {
   "cell_type": "markdown",
   "metadata": {},
   "source": [
    "Q2 A python program to test whether a given number is in between 1 and 10?"
   ]
  },
  {
   "cell_type": "code",
   "execution_count": 48,
   "metadata": {},
   "outputs": [
    {
     "name": "stdout",
     "output_type": "stream",
     "text": [
      "The number is in given range\n"
     ]
    }
   ],
   "source": [
    "def test_range(n):\n",
    "    if n in range(1,10):\n",
    "       print(\"The number is in given range\")\n",
    "    else:\n",
    "        print(\"The number is outside the given range\")\n",
    "test_range(9)"
   ]
  },
  {
   "cell_type": "markdown",
   "metadata": {},
   "source": [
    "Q3 Write a python program to check whether number is even or odd?"
   ]
  },
  {
   "cell_type": "code",
   "execution_count": 50,
   "metadata": {},
   "outputs": [
    {
     "name": "stdout",
     "output_type": "stream",
     "text": [
      "enter a number25\n",
      "The given no. is odd\n"
     ]
    }
   ],
   "source": [
    "a=int(input(\"enter a number\"))\n",
    "if(a%2==0):\n",
    "    print(\"The given no. is even\")\n",
    "else:\n",
    "    print(\"The given no. is odd\")"
   ]
  },
  {
   "cell_type": "markdown",
   "metadata": {},
   "source": [
    "Q4 Write a python program to check whether a list is empty or not using len() function?"
   ]
  },
  {
   "cell_type": "code",
   "execution_count": 51,
   "metadata": {},
   "outputs": [
    {
     "name": "stdout",
     "output_type": "stream",
     "text": [
      "enter a list2,3,4,5\n",
      "list is not empty\n"
     ]
    }
   ],
   "source": [
    "a=input(\"enter a list\")\n",
    "if (len(a)"
   ]
  },
  {
   "cell_type": "markdown",
   "metadata": {},
   "source": [
    "Q5 A python program to check whether a given number is zero, positive or negative?"
   ]
  },
  {
   "cell_type": "code",
   "execution_count": 52,
   "metadata": {},
   "outputs": [
    {
     "name": "stdout",
     "output_type": "stream",
     "text": [
      "enter a number:0\n",
      "Given number is zero\n"
     ]
    }
   ],
   "source": [
    "a=float(input(\"enter a number:\"))\n",
    "if (a>0):\n",
    "    print(\"Given number is positive\")\n",
    "elif(a<0):\n",
    "    print(\"Given number is negative\")\n",
    "else:\n",
    "    print(\"Given number is zero\")"
   ]
  },
  {
   "cell_type": "markdown",
   "metadata": {},
   "source": [
    "Q6 Print first 10 natural numbers using while loop and for loop?"
   ]
  },
  {
   "cell_type": "code",
   "execution_count": 54,
   "metadata": {},
   "outputs": [
    {
     "name": "stdout",
     "output_type": "stream",
     "text": [
      "1 2 3 4 5 6 7 8 9 10 "
     ]
    }
   ],
   "source": [
    "a=1\n",
    "for i in range (1,11):\n",
    "    while(a<= i):\n",
    "        print(a,end=' ')\n",
    "        a=a+1"
   ]
  },
  {
   "cell_type": "markdown",
   "metadata": {},
   "source": [
    "Q7 Write a python program to reverse the following list using for loop? It1=[12,7,9,14,5]"
   ]
  },
  {
   "cell_type": "code",
   "execution_count": 55,
   "metadata": {},
   "outputs": [
    {
     "name": "stdout",
     "output_type": "stream",
     "text": [
      "5\n",
      "14\n",
      "9\n",
      "7\n",
      "12\n"
     ]
    }
   ],
   "source": [
    "It1=[12,7,9,14,5]\n",
    "for i in range (len(It1)-1,-1,-1):\n",
    "    print(It1[i])"
   ]
  },
  {
   "cell_type": "markdown",
   "metadata": {},
   "source": [
    "Q8 Write a python program to multiply all the items in list using for loop?"
   ]
  },
  {
   "cell_type": "code",
   "execution_count": 56,
   "metadata": {},
   "outputs": [
    {
     "name": "stdout",
     "output_type": "stream",
     "text": [
      "multiplication of all items is: 2\n",
      "multiplication of all items is: 8\n",
      "multiplication of all items is: 48\n",
      "multiplication of all items is: 384\n",
      "multiplication of all items is: 3840\n"
     ]
    }
   ],
   "source": [
    "a=[2,4,6,8,10]\n",
    "result=1\n",
    "for i in range(0,len(a)):\n",
    "    result=result*a[i]\n",
    "    print(\"multiplication of all items is:\", result)"
   ]
  },
  {
   "cell_type": "markdown",
   "metadata": {},
   "source": [
    "Q9 Write a python to print numbers in list which are divisible by 6 and numbers is greater than 150 then stop the iteration?"
   ]
  },
  {
   "cell_type": "code",
   "execution_count": 73,
   "metadata": {},
   "outputs": [
    {
     "name": "stdout",
     "output_type": "stream",
     "text": [
      "12\n",
      "36\n",
      "102\n"
     ]
    }
   ],
   "source": [
    "a=[12,15,36,20,55,47,102,146,150,180]\n",
    "for i in range(0,len(a)):\n",
    "    if (a[i]%6==0):\n",
    "      print(a[i])\n",
    "    elif(a[i]>102):break"
   ]
  },
  {
   "cell_type": "markdown",
   "metadata": {},
   "source": [
    "Q10 Write a python program to count a specific letter in string?"
   ]
  },
  {
   "cell_type": "code",
   "execution_count": 66,
   "metadata": {},
   "outputs": [
    {
     "name": "stdout",
     "output_type": "stream",
     "text": [
      "2\n"
     ]
    }
   ],
   "source": [
    "str1=\"APPLE\"\n",
    "print(str1.count(\"P\"))"
   ]
  }
 ],
 "metadata": {
  "kernelspec": {
   "display_name": "Python 3",
   "language": "python",
   "name": "python3"
  },
  "language_info": {
   "codemirror_mode": {
    "name": "ipython",
    "version": 3
   },
   "file_extension": ".py",
   "mimetype": "text/x-python",
   "name": "python",
   "nbconvert_exporter": "python",
   "pygments_lexer": "ipython3",
   "version": "3.7.4"
  }
 },
 "nbformat": 4,
 "nbformat_minor": 2
}
