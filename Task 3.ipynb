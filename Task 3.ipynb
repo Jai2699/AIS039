{
 "cells": [
  {
   "cell_type": "markdown",
   "metadata": {},
   "source": [
    "Q1. What is tuple?\n",
    "\n",
    "In a python tuple is similar to list except that the objects in tuple are immutable which means we cannot change the elements of a tuple once assigned.\n",
    "\n",
    "Q2. What is difference between list and tuple?\n",
    "\n",
    "The elements of a list are mutable whereas the elements of tuple are immutable. When we do not want to change the data over time, the tuple is a preffered data type whereas when we need to change the data in future, list wise be option. Iterating over the elements of a tuple is faster compared to iterating over list. Elements of a tuple are enclosed in parenthesis whereas the elements of a list are enclose in square bracket."
   ]
  },
  {
   "cell_type": "markdown",
   "metadata": {},
   "source": [
    "Q3. What is the result of range(1,12,1)"
   ]
  },
  {
   "cell_type": "code",
   "execution_count": 1,
   "metadata": {},
   "outputs": [
    {
     "data": {
      "text/plain": [
       "range(1, 12)"
      ]
     },
     "execution_count": 1,
     "metadata": {},
     "output_type": "execute_result"
    }
   ],
   "source": [
    "range(1,12,1)"
   ]
  },
  {
   "cell_type": "markdown",
   "metadata": {},
   "source": [
    "Q4. Assuming a=[10,20,30,40,50] a) find length of a list? b)find the minimum and maximum of a list?"
   ]
  },
  {
   "cell_type": "code",
   "execution_count": 7,
   "metadata": {},
   "outputs": [
    {
     "name": "stdout",
     "output_type": "stream",
     "text": [
      "5\n",
      "50 10\n"
     ]
    }
   ],
   "source": [
    "a=[10,20,30,40,50]\n",
    "print(len(a))\n",
    "print(max(a),min(a))"
   ]
  },
  {
   "cell_type": "markdown",
   "metadata": {},
   "source": [
    "Q5. If x=[1,2,3,4,5,1,3,1] then what is the result of x*2 and x.count(1)?"
   ]
  },
  {
   "cell_type": "code",
   "execution_count": 8,
   "metadata": {},
   "outputs": [
    {
     "name": "stdout",
     "output_type": "stream",
     "text": [
      "[1, 2, 3, 4, 5, 1, 3, 1, 1, 2, 3, 4, 5, 1, 3, 1]\n",
      "3\n"
     ]
    }
   ],
   "source": [
    "x=[1,2,3,4,5,1,3,1]\n",
    "print(x*2)\n",
    "print(x.count(1))"
   ]
  },
  {
   "cell_type": "markdown",
   "metadata": {},
   "source": [
    "Q6. Create a list of colours name and then print first and last color name of the list using slicing?"
   ]
  },
  {
   "cell_type": "code",
   "execution_count": 21,
   "metadata": {},
   "outputs": [
    {
     "name": "stdout",
     "output_type": "stream",
     "text": [
      "['red'] ['white']\n"
     ]
    }
   ],
   "source": [
    "list=[\"red\",\"green\",\"white\"]\n",
    "print(list[0:1],list[2:3])"
   ]
  },
  {
   "cell_type": "markdown",
   "metadata": {},
   "source": [
    "Q7. If list=[1,4,7,'a','c',\"rat\",\"mat\",4,6,4] then add element 12 using append method and remove rat element using remove method in the given list?"
   ]
  },
  {
   "cell_type": "code",
   "execution_count": 75,
   "metadata": {},
   "outputs": [
    {
     "name": "stdout",
     "output_type": "stream",
     "text": [
      "Updated List: [1, 4, 7, 'a', 'rat', 'mat', 'c', 4, 6, 4, 12]\n",
      "Updated List: [1, 4, 7, 'a', 'mat', 'c', 4, 6, 4, 12]\n"
     ]
    }
   ],
   "source": [
    "list=[1,4,7,'a',\"rat\",\"mat\",'c',4,6,4]\n",
    "list.append(12)\n",
    "print('Updated List:',list)\n",
    "list.remove(\"rat\")\n",
    "print('Updated List:', list)"
   ]
  },
  {
   "cell_type": "markdown",
   "metadata": {},
   "source": [
    "Q8. Create two list and concatenate them and then repeat 1st list 3 times?"
   ]
  },
  {
   "cell_type": "code",
   "execution_count": 42,
   "metadata": {},
   "outputs": [
    {
     "name": "stdout",
     "output_type": "stream",
     "text": [
      "Python is awesome\n",
      "['Python is ', 'Python is ', 'Python is ']\n"
     ]
    }
   ],
   "source": [
    "x=\"Python is \"\n",
    "y=\"awesome\"\n",
    "print(x+y)\n",
    "print([x]*3)"
   ]
  },
  {
   "cell_type": "markdown",
   "metadata": {},
   "source": [
    "Q9. Create a tuple of fruits name and then access first 4 elements from the tuple?"
   ]
  },
  {
   "cell_type": "code",
   "execution_count": 45,
   "metadata": {},
   "outputs": [
    {
     "data": {
      "text/plain": [
       "('orange', 'apple', 'banana', 'mangno')"
      ]
     },
     "execution_count": 45,
     "metadata": {},
     "output_type": "execute_result"
    }
   ],
   "source": [
    "t1=(\"orange\",\"apple\",\"banana\",\"mangno\",\"strawbery\")\n",
    "t1[0:4]"
   ]
  },
  {
   "cell_type": "markdown",
   "metadata": {},
   "source": [
    "Q10. Create a list using range function and then convert this list into tuple using tuple function?"
   ]
  },
  {
   "cell_type": "code",
   "execution_count": 59,
   "metadata": {},
   "outputs": [
    {
     "name": "stdout",
     "output_type": "stream",
     "text": [
      "[10, 11, 12, 13, 14, 15, 16, 17, 18, 19, 20]\n"
     ]
    },
    {
     "data": {
      "text/plain": [
       "(10, 11, 12, 13, 14, 15, 16, 17, 18, 19, 20)"
      ]
     },
     "execution_count": 59,
     "metadata": {},
     "output_type": "execute_result"
    }
   ],
   "source": [
    "l2=[*range(10,21,1)]\n",
    "print(l2)\n",
    "tuple(l2)"
   ]
  },
  {
   "cell_type": "markdown",
   "metadata": {},
   "source": [
    "Q11. Create a tupple using eval function and then obtained the length of tuple?"
   ]
  },
  {
   "cell_type": "code",
   "execution_count": 89,
   "metadata": {},
   "outputs": [
    {
     "name": "stdout",
     "output_type": "stream",
     "text": [
      "(1, 5, 7, 8, 2)\n",
      "5\n"
     ]
    }
   ],
   "source": [
    "l3=\"(1,5,7,8,2)\"\n",
    "l3=eval(l3)\n",
    "print(l3)\n",
    "print(len(l3))"
   ]
  },
  {
   "cell_type": "markdown",
   "metadata": {},
   "source": [
    "Q12. Create a tuple of integer number and then sort the elements of tuple?"
   ]
  },
  {
   "cell_type": "code",
   "execution_count": 66,
   "metadata": {},
   "outputs": [
    {
     "data": {
      "text/plain": [
       "[1, 4, 5, 9, 11, 41, 54]"
      ]
     },
     "execution_count": 66,
     "metadata": {},
     "output_type": "execute_result"
    }
   ],
   "source": [
    "tu2=(1,4,5,9,41,11,54)\n",
    "sorted(tu2)"
   ]
  },
  {
   "cell_type": "markdown",
   "metadata": {},
   "source": [
    "Q13. Create a list of colours name and then insert purple color on 3rd position using insert method?"
   ]
  },
  {
   "cell_type": "code",
   "execution_count": 74,
   "metadata": {},
   "outputs": [
    {
     "name": "stdout",
     "output_type": "stream",
     "text": [
      "Updated List: ['red', 'orange', 'purple', 'green', 'black']\n"
     ]
    }
   ],
   "source": [
    "l4=[\"red\",\"orange\",\"green\",\"black\"]\n",
    "l4.insert(2,\"purple\")\n",
    "print('Updated List:', l4)"
   ]
  },
  {
   "cell_type": "markdown",
   "metadata": {},
   "source": [
    "Q14. If x=(50,60,70,80,90,(200,100)) the access 200,100 from the tuple?"
   ]
  },
  {
   "cell_type": "code",
   "execution_count": 90,
   "metadata": {},
   "outputs": [
    {
     "name": "stdout",
     "output_type": "stream",
     "text": [
      "(200, 100)\n"
     ]
    }
   ],
   "source": [
    "x=(50,60,70,80,90,(200,100))\n",
    "print(x[-1])"
   ]
  },
  {
   "cell_type": "markdown",
   "metadata": {},
   "source": [
    "Q15.Create a nested list and nested tuple?"
   ]
  },
  {
   "cell_type": "code",
   "execution_count": 88,
   "metadata": {},
   "outputs": [
    {
     "name": "stdout",
     "output_type": "stream",
     "text": [
      "[1, 2, 'rat', 'a', [10, 20]]\n",
      "(20, 15, 'red', 'a', (10, 20, 30), 'a')\n"
     ]
    }
   ],
   "source": [
    "list=[1,2,\"rat\",'a',[10,20]]\n",
    "tuple=(20,15,\"red\",'a',(10,20,30),'a')\n",
    "print(list)\n",
    "print(tuple)"
   ]
  },
  {
   "cell_type": "code",
   "execution_count": null,
   "metadata": {},
   "outputs": [],
   "source": []
  }
 ],
 "metadata": {
  "kernelspec": {
   "display_name": "Python 3",
   "language": "python",
   "name": "python3"
  },
  "language_info": {
   "codemirror_mode": {
    "name": "ipython",
    "version": 3
   },
   "file_extension": ".py",
   "mimetype": "text/x-python",
   "name": "python",
   "nbconvert_exporter": "python",
   "pygments_lexer": "ipython3",
   "version": "3.7.4"
  }
 },
 "nbformat": 4,
 "nbformat_minor": 2
}
