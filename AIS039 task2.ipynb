{
 "cells": [
  {
   "cell_type": "markdown",
   "metadata": {},
   "source": [
    "1.What is an array?\n",
    "\n",
    "An array is collection of items stored at contigeous memory locations. The idea is to stored multiple items of the same type together, However, user cannot constraints the type of the elements stored in a list. If you create arrays using the array module, all alements of the array must be of the same type.\n",
    "\n",
    "2.What is difference between array and list?\n",
    "\n",
    "Arrays can store data very compactly and are more efficient for storing large amounts of the data. Arrays are create for numerical operations; list cannot directly handle math operations. For example. you can divide each element of an array by the same number with just one line of code.\n",
    "\n",
    "3.How to change the shape of array?\n",
    "\n",
    "The reshape() funcyion is used to change the shape of array.\n",
    "\n",
    "4.What does the name.strip() d0?\n",
    "\n",
    "That returns a copy of the strings with both leading and trailing characters removed.\n",
    "\n",
    "5.When we use triple single or triple double quotes to define a string?\n",
    "\n",
    "To create strings that span multiple lines, triple single quotes are used to enclose the string. This string is on multiple lines within three double quotes on the either side\n",
    "\n"
   ]
  },
  {
   "cell_type": "markdown",
   "metadata": {},
   "source": [
    "6.Create a character type array?"
   ]
  },
  {
   "cell_type": "code",
   "execution_count": 1,
   "metadata": {},
   "outputs": [
    {
     "name": "stdout",
     "output_type": "stream",
     "text": [
      "['a' 'b' 'c']\n"
     ]
    }
   ],
   "source": [
    "import numpy as np\n",
    "print(np.array(['a','b','c']))"
   ]
  },
  {
   "cell_type": "markdown",
   "metadata": {},
   "source": [
    "7.Create a \"hello\" string and access the string character \"ll\" in python?\n"
   ]
  },
  {
   "cell_type": "code",
   "execution_count": 2,
   "metadata": {},
   "outputs": [
    {
     "name": "stdout",
     "output_type": "stream",
     "text": [
      "hello\n",
      "ll\n"
     ]
    }
   ],
   "source": [
    "st1='hello'\n",
    "print(st1)\n",
    "print(st1[2:4])"
   ]
  },
  {
   "cell_type": "markdown",
   "metadata": {},
   "source": [
    "8.Create an array to get largest and smallest number using minimumm and maximum function?|"
   ]
  },
  {
   "cell_type": "code",
   "execution_count": 3,
   "metadata": {},
   "outputs": [
    {
     "name": "stdout",
     "output_type": "stream",
     "text": [
      "51\n",
      "1\n"
     ]
    }
   ],
   "source": [
    "import numpy as np\n",
    "a1=np.array([1,2,3,51,45,4])\n",
    "print(np.max(a1))\n",
    "print(np.min(a1))"
   ]
  },
  {
   "cell_type": "markdown",
   "metadata": {},
   "source": [
    "9.If a name is \"core python\" then access the \"python\" from name and reverse \"python\" using slicing?\n"
   ]
  },
  {
   "cell_type": "code",
   "execution_count": 6,
   "metadata": {},
   "outputs": [
    {
     "name": "stdout",
     "output_type": "stream",
     "text": [
      " python\n"
     ]
    },
    {
     "data": {
      "text/plain": [
       "'nohtyp '"
      ]
     },
     "execution_count": 6,
     "metadata": {},
     "output_type": "execute_result"
    }
   ],
   "source": [
    "name=\"core python\"\n",
    "R=name[4:]\n",
    "print(R)\n",
    "R[len(R)::-1]"
   ]
  },
  {
   "cell_type": "markdown",
   "metadata": {},
   "source": [
    "10.Create an array of integer type and add element 12 using append method and remove one element using remove method?\n"
   ]
  },
  {
   "cell_type": "code",
   "execution_count": 7,
   "metadata": {},
   "outputs": [
    {
     "name": "stdout",
     "output_type": "stream",
     "text": [
      "array('i', [1, 2, 3, 4, 5, 12])\n",
      "array('i', [1, 2, 3, 4, 12])\n"
     ]
    }
   ],
   "source": [
    "import array as arr\n",
    "a=arr.array('i',[1,2,3,4,5])\n",
    "a.append(12)\n",
    "print(a)\n",
    "a.remove(5)\n",
    "print(a)"
   ]
  },
  {
   "cell_type": "markdown",
   "metadata": {},
   "source": [
    "11.Create a single dimensional and 3 dimensional array using numpy?"
   ]
  },
  {
   "cell_type": "code",
   "execution_count": 9,
   "metadata": {},
   "outputs": [
    {
     "name": "stdout",
     "output_type": "stream",
     "text": [
      "[ 5  8 10]\n",
      "[[[1 2]\n",
      "  [3 4]]\n",
      "\n",
      " [[5 6]\n",
      "  [7 8]]]\n"
     ]
    }
   ],
   "source": [
    "import numpy as np\n",
    "a=np.array([5,8,10])\n",
    "print(a)\n",
    "b=np.array([[[1,2],[3,4]],[[5,6],[7,8]]])\n",
    "print(b)"
   ]
  },
  {
   "cell_type": "markdown",
   "metadata": {},
   "source": [
    "12.Create a \"Programiz\" string and convert the string into upper, lower case? And replace given string by \"program\" using replace method?"
   ]
  },
  {
   "cell_type": "code",
   "execution_count": 11,
   "metadata": {},
   "outputs": [
    {
     "name": "stdout",
     "output_type": "stream",
     "text": [
      "PROGRAMIZ\n",
      "programiz\n",
      "program\n"
     ]
    }
   ],
   "source": [
    "import numpy as np\n",
    "str4=\"Programiz\"\n",
    "print(str4.upper())\n",
    "print(str4.lower())\n",
    "print(str4.replace('Programiz','program'))"
   ]
  },
  {
   "cell_type": "markdown",
   "metadata": {},
   "source": [
    "13.Create a two array one using linspace and another using arange function and then substract?\n"
   ]
  },
  {
   "cell_type": "code",
   "execution_count": 13,
   "metadata": {},
   "outputs": [
    {
     "name": "stdout",
     "output_type": "stream",
     "text": [
      "[ 2.    1.25  0.5  -0.25 -1.  ]\n"
     ]
    }
   ],
   "source": [
    "import numpy as np\n",
    "a1=np.linspace(3.0,4.0,5)\n",
    "a2=np.arange(1,6)\n",
    "print(a1-a2)"
   ]
  },
  {
   "cell_type": "markdown",
   "metadata": {},
   "source": [
    "14.Create \"happy new year\" string and then separate by \",\" in python?\n"
   ]
  },
  {
   "cell_type": "code",
   "execution_count": 16,
   "metadata": {},
   "outputs": [
    {
     "name": "stdout",
     "output_type": "stream",
     "text": [
      "happy new year\n",
      "['happy', ' new', ' year']\n"
     ]
    }
   ],
   "source": [
    "str1=\"happy new year\"\n",
    "print(str1)\n",
    "str2=\"happy, new, year\"\n",
    "print(str2.split(\",\"))"
   ]
  },
  {
   "cell_type": "code",
   "execution_count": null,
   "metadata": {},
   "outputs": [],
   "source": []
  }
 ],
 "metadata": {
  "kernelspec": {
   "display_name": "Python 3",
   "language": "python",
   "name": "python3"
  },
  "language_info": {
   "codemirror_mode": {
    "name": "ipython",
    "version": 3
   },
   "file_extension": ".py",
   "mimetype": "text/x-python",
   "name": "python",
   "nbconvert_exporter": "python",
   "pygments_lexer": "ipython3",
   "version": "3.7.4"
  }
 },
 "nbformat": 4,
 "nbformat_minor": 2
}
